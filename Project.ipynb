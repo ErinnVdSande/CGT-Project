{
 "cells": [
  {
   "cell_type": "markdown",
   "metadata": {},
   "source": [
    "# Analytical approach"
   ]
  },
  {
   "cell_type": "code",
   "execution_count": 1,
   "metadata": {},
   "outputs": [],
   "source": [
    "import numpy as np\n",
    "import matplotlib.pyplot as plt\n",
    "import egttools as egt"
   ]
  },
  {
   "cell_type": "code",
   "execution_count": 2,
   "metadata": {},
   "outputs": [],
   "source": [
    "# Parameters for the pay-off matrix\n",
    "## The reward values (prisoner's dilemma)\n",
    "R_pd = 1\n",
    "S_pd = -1\n",
    "T_pd = 2\n",
    "P_pd = 0\n",
    "## The reward values (snowdrift)\n",
    "R_sd = 1\n",
    "S_sd = 0\n",
    "T_sd = 2\n",
    "P_sd = -1\n",
    "## The values used to calculate the reward for a certain strategy\n",
    "gamma = 1 # Importance of the game\n",
    "r = 50 # number of rounds\n",
    "theta = 3 # trust threshold\n",
    "p = 0.25 # Chance of checking\n",
    "epsilon = 0.25 # opportunity cost\n",
    "# Parameters for the game settings\n",
    "nb_strategies_with = 5\n",
    "strategies = [\"ALLC\",\"ALLD\",\"TFT\",\"TUC\",\"TUD\"]\n",
    "colors_strat = [\"tab:blue\",\"tab:orange\",\"tab:green\",\"tab:red\",\"tab:purple\"]\n",
    "nb_strategies_without = 3\n",
    "colors_trust = [\"tab:orange\",\"tab:blue\"]\n",
    "beta = 0.1 # intensity of selection\n",
    "Z = 100 # Population size (N)\n",
    "# boolean to run smaller experiments seperatly\n",
    "run_small = False\n",
    "run_big = True"
   ]
  },
  {
   "cell_type": "code",
   "execution_count": 3,
   "metadata": {},
   "outputs": [],
   "source": [
    "def calculate_pay_off(R,S,T,P,gamma,r,theta,p,epsilon):\n",
    "    R *= gamma\n",
    "    S *= gamma\n",
    "    T *= gamma\n",
    "    P *= gamma\n",
    "    # static table\n",
    "    ## Always cooperate (ALLC)\n",
    "    ALLC_ALLC = R\n",
    "    ALLC_ALLD = S\n",
    "    ALLC_TFT = R\n",
    "    ALLC_TUC = R\n",
    "    ALLC_TUD = (theta*R+(r-theta)*S)/r\n",
    "    ALLC = [ALLC_ALLC,ALLC_ALLD,ALLC_TFT,ALLC_TUC,ALLC_TUD]\n",
    "    ## Always defect (ALLD)\n",
    "    ALLD_ALLC = T\n",
    "    ALLD_ALLD = P\n",
    "    ALLD_TFT = (T+(r-1)*P)/r\n",
    "    ALLD_TUC = (T+(r-1)*P)/r\n",
    "    ALLD_TUD = (T+(r-1)*P)/r\n",
    "    ALLD = [ALLD_ALLC,ALLD_ALLD,ALLD_TFT,ALLD_TUC,ALLD_TUD]\n",
    "    ## Tit for Tat (TFT)\n",
    "    TFT_ALLC = R-epsilon\n",
    "    TFT_ALLD = (S+(r-1)*P)/r - epsilon\n",
    "    TFT_TFT = R - epsilon\n",
    "    TFT_TUD = R - epsilon\n",
    "    TFT_TUC = (theta*R+S+(r-theta-1)*P)/r - epsilon\n",
    "    TFT = [TFT_ALLC,TFT_ALLD,TFT_TFT,TFT_TUD,TFT_TUC]\n",
    "    ## Trust-based Cooperate (TUC)\n",
    "    TUC_ALLC = R - (theta*epsilon)/r - (p*(r-theta)*epsilon)/r\n",
    "    TUC_ALLD = (S + (r-1)*P)/r - epsilon\n",
    "    TUC_TFT = R-(theta*epsilon)/r-(p*(r-theta)*epsilon)/r\n",
    "    TUC_TUC = R-(theta*epsilon)/r-(p*(r-theta)*epsilon)/r\n",
    "    TUC_TUD = (theta*R-theta*epsilon)/r + (1/r)*((S*(1-(1-p)**(r-theta)))/p + ((P-epsilon)*((1-p)**(r-theta)+(r-theta)*p - 1))/p)\n",
    "    TUC = [TUC_ALLC,TUC_ALLD,TUC_TFT,TUC_TUC,TUC_TUD]\n",
    "    ## Trust-based Defect (TUD)\n",
    "    TUD_ALLC = (epsilon*R+(r-epsilon)*T-theta*epsilon)/r\n",
    "    TUD_ALLD = (S+(r-1)*P)/r-epsilon\n",
    "    TUD_TFT = (theta*R+T+(r-theta-1)*P-theta*epsilon)/r\n",
    "    TUD_TUC = (theta*R-theta*epsilon)/r + (1/r)*((T*(1 - (1 - p) ** (r - theta)))/p + (P*((1-p)**(r-theta) + (r - theta)*p - 1))/p)\n",
    "    TUD_TUD = (theta*R+(r - theta) * P - theta*epsilon)/r\n",
    "    TUD = [TUD_ALLC,TUD_ALLD,TUD_TFT,TUD_TUC,TUD_TUD]\n",
    "    return np.array([\n",
    "        ALLC,\n",
    "        ALLD,\n",
    "        TFT,\n",
    "        TUC,\n",
    "        TUD,])"
   ]
  },
  {
   "cell_type": "markdown",
   "metadata": {},
   "source": [
    "## run for default parameters\n",
    "### Prisoner's Dilemma"
   ]
  },
  {
   "cell_type": "code",
   "execution_count": 4,
   "metadata": {},
   "outputs": [],
   "source": [
    "pay_off_pd = calculate_pay_off(R_pd,S_pd,T_pd,P_pd,gamma,r,theta,p,epsilon)\n",
    "evolver_pd = egt.analytical.StochDynamics(nb_strategies_with, pay_off_pd, Z)\n",
    "evolver_pd.mu = 0\n",
    "stationary_SML_pd = evolver_pd.calculate_stationary_distribution(beta)"
   ]
  },
  {
   "cell_type": "code",
   "execution_count": 5,
   "metadata": {},
   "outputs": [
    {
     "name": "stdout",
     "output_type": "stream",
     "text": [
      "time spent as Always Cooperate: 0.04444423948049365 & time spent as Always Cheat: 0.2653608065886105 & time spent as Tit for Tat: 0.12223515328999357 & time spent as Trust-based Cooperate 0.3995190913542364 & time spent as Trust-based Defect 0.16844070928666582\n"
     ]
    }
   ],
   "source": [
    "print(\"time spent as Always Cooperate: {} & time spent as Always Cheat: {} & time spent as Tit for Tat: {} & time spent as Trust-based Cooperate {} & time spent as Trust-based Defect {}\".format(*stationary_SML_pd))"
   ]
  },
  {
   "cell_type": "code",
   "execution_count": 6,
   "metadata": {},
   "outputs": [
    {
     "data": {
      "image/png": "[encoded data removed]",
      "text/plain": [
       "<Figure size 432x288 with 1 Axes>"
      ]
     },
     "metadata": {
      "needs_background": "light"
     },
     "output_type": "display_data"
    }
   ],
   "source": [
    "fig_pd,ax_pd = plt.subplots()\n",
    "ax_pd.bar(strategies,[*stationary_SML_pd],color = colors_strat)\n",
    "fig_pd.savefig(f'prisoner/default.png')"
   ]
  },
  {
   "cell_type": "code",
   "execution_count": 7,
   "metadata": {},
   "outputs": [],
   "source": [
    "plt.close(fig_pd)"
   ]
  },
  {
   "cell_type": "markdown",
   "metadata": {},
   "source": [
    "### Snowdrift"
   ]
  },
  {
   "cell_type": "code",
   "execution_count": 8,
   "metadata": {},
   "outputs": [],
   "source": [
    "pay_off_sd = calculate_pay_off(R_sd,S_sd,T_sd,P_sd,gamma,r,theta,p,epsilon)\n",
    "evolver_sd = egt.analytical.StochDynamics(nb_strategies_with, pay_off_sd, Z)\n",
    "evolver_sd.mu = 0\n",
    "stationary_SML_sd = evolver_sd.calculate_stationary_distribution(beta)"
   ]
  },
  {
   "cell_type": "code",
   "execution_count": 9,
   "metadata": {},
   "outputs": [
    {
     "name": "stdout",
     "output_type": "stream",
     "text": [
      "time spent as Always Cooperate: 0.18208775957580695 & time spent as Always Cheat: 0.10520550751886781 & time spent as Tit for Tat: 0.13278599398354254 & time spent as Trust-based Cooperate 0.4869466439199093 & time spent as Trust-based Defect 0.09297409500187344\n"
     ]
    }
   ],
   "source": [
    "print(\"time spent as Always Cooperate: {} & time spent as Always Cheat: {} & time spent as Tit for Tat: {} & time spent as Trust-based Cooperate {} & time spent as Trust-based Defect {}\".format(*stationary_SML_sd))"
   ]
  },
  {
   "cell_type": "code",
   "execution_count": 10,
   "metadata": {},
   "outputs": [
    {
     "data": {
      "image/png": "[encoded data removed]",
      "text/plain": [
       "<Figure size 432x288 with 1 Axes>"
      ]
     },
     "metadata": {
      "needs_background": "light"
     },
     "output_type": "display_data"
    }
   ],
   "source": [
    "fig_sd,ax_sd = plt.subplots()\n",
    "ax_sd.bar(strategies,[*stationary_SML_sd],color = colors_strat)\n",
    "fig_pd.savefig(f'snowdrift/default.png')"
   ]
  },
  {
   "cell_type": "code",
   "execution_count": 11,
   "metadata": {},
   "outputs": [],
   "source": [
    "plt.close(fig_sd)"
   ]
  },
  {
   "cell_type": "markdown",
   "metadata": {},
   "source": [
    "# Experiments"
   ]
  },
  {
   "cell_type": "markdown",
   "metadata": {},
   "source": [
    "## Influence of $\\epsilon$"
   ]
  },
  {
   "cell_type": "code",
   "execution_count": 12,
   "metadata": {},
   "outputs": [],
   "source": [
    "def test_epsilons(R,S,T,P,gamma,r,theta,p,nb_strategies_with,strategies,nb_strategies_without,beta,Z,epsilons):\n",
    "    # for the frequencies of strategies\n",
    "    results_with = np.zeros((nb_strategies_with,len(epsilons)))\n",
    "    # for the frequency of cooperation\n",
    "    results_without = np.zeros((nb_strategies_without,len(epsilons)))\n",
    "    for pos in range(len(epsilons)):\n",
    "        # get the epsilon\n",
    "        epsilon = epsilons[pos]\n",
    "        # calculate the pay-offs\n",
    "        pay_off = calculate_pay_off(R,S,T,P,gamma,r,theta,p,epsilon)\n",
    "        # for all the strategies\n",
    "        evolver = egt.analytical.StochDynamics(nb_strategies_with, pay_off, Z)\n",
    "        evolver.mu = 0\n",
    "        # calculate the stationary distribution\n",
    "        stationary_SML = evolver.calculate_stationary_distribution(beta)\n",
    "        # add the percentage of each strategy and epsilon to the results\n",
    "        for strategy,v in zip(range(nb_strategies_with),stationary_SML):\n",
    "            results_with[strategy][pos] = v\n",
    "        # for all strategies except TUC and TUD\n",
    "        evolver = egt.analytical.StochDynamics(nb_strategies_without, pay_off, Z)\n",
    "        evolver.mu = 0\n",
    "        # calculate the stationary distribution\n",
    "        stationary_SML = evolver.calculate_stationary_distribution(beta)\n",
    "        # add the percentage of each strategy and epsilon to the results\n",
    "        for strategy,v in zip(range(nb_strategies_without),stationary_SML):\n",
    "            results_without[strategy][pos] = v\n",
    "    return results_with,results_without\n",
    "\n",
    "def visualize_epsilons(ax_strat,ax_coop,nb_strategies_with,strategies,colors_strat,nb_strategies_without,colors_trust,epsilons,results_with,results_without):\n",
    "    # for the frequencies of strategies\n",
    "    # Plot the line for each of the strategies\n",
    "    for pos,color_strat in zip(range(nb_strategies_with),colors_strat):\n",
    "        ax_strat.plot(epsilons,results_with[pos],label = strategies[pos],color = color_strat)\n",
    "    # Enable the legend of the graph\n",
    "    ax_strat.legend()\n",
    "    # Set the limits and labels of the X and Y axis\n",
    "    ax_strat.set_xlabel(\"Opportunity cost $\\epsilon$\")\n",
    "    ax_strat.set_ylabel(\"Frequency of Strategy\")\n",
    "    ax_strat.set_xlim(0,1)\n",
    "    ax_strat.set_ylim(0,1)\n",
    "    # for the frequency of cooperation\n",
    "    # Get the values of all the strategies that like to cooperate (without trust)\n",
    "    without_trust = np.array([results_without[0][pos] + results_without[2][pos] for pos in range(len(epsilons))])\n",
    "    ax_coop.plot(epsilons,without_trust,label = \"without TUC/TUD\",color = colors_trust[0])\n",
    "    # Get the values of all the strategies that like to cooperate (with trust)\n",
    "    with_trust = np.array([results_with[0][pos] + results_with[2][pos] + results_with[3][pos] for pos in range(len(epsilons))])\n",
    "    ax_coop.plot(epsilons,with_trust,label = \"with TUC/TUD\",color = colors_trust[1])\n",
    "    # Color the area between the two plots in green when the with_trust is above and red when the without_trust is above\n",
    "    ax_coop.fill_between(epsilons, with_trust, without_trust, where=(with_trust > without_trust), color='green', alpha=0.3)\n",
    "    ax_coop.fill_between(epsilons, with_trust, without_trust, where=(with_trust < without_trust), color='red', alpha=0.3)\n",
    "    # Enable the legend of the graph\n",
    "    ax_coop.legend()\n",
    "    # Set the limits and labels of the X and Y axis\n",
    "    ax_coop.set_xlim(0,1)\n",
    "    ax_coop.set_ylim(0,1)\n",
    "    ax_coop.set_xlabel(\"Opportunity cost $\\epsilon$\")\n",
    "    ax_coop.set_ylabel(\"Frequency of Trust\")"
   ]
  },
  {
   "cell_type": "code",
   "execution_count": 13,
   "metadata": {},
   "outputs": [],
   "source": [
    "if run_small:\n",
    "    # all epsilons we want to test\n",
    "    epsilons = np.arange(0,1.01,0.01)\n",
    "    # Calculate the epsilon values\n",
    "    epsilons_with,epsilons_without = test_epsilons(R_pd,S_pd,T_pd,P_pd,gamma,r,theta,p,nb_strategies_with,strategies,nb_strategies_without,beta,Z,epsilons)\n",
    "    # create the subplots for the visualisation\n",
    "    fig_epsilon,(ax_strat_epsilon,ax_coop_epsilon) = plt.subplots(1,2,figsize=(12,5))\n",
    "    # add the title to the plots\n",
    "    fig_epsilon.suptitle(\"Influence of $\\epsilon$ where \" + r\"$\\theta$ = \" + f\"{theta}\",size = 20)\n",
    "    # visualize the results on the subplots\n",
    "    visualize_epsilons(ax_strat_epsilon,ax_coop_epsilon,nb_strategies_with,strategies,colors_strat,nb_strategies_without,colors_trust,epsilons,epsilons_with,epsilons_without)\n",
    "    # save the figure\n",
    "    fig_epsilon.savefig(f'figure/epsilon_theta_{theta}.png')"
   ]
  },
  {
   "cell_type": "code",
   "execution_count": 14,
   "metadata": {},
   "outputs": [],
   "source": [
    "if run_small:\n",
    "    # close the plot of the figure of epsilon\n",
    "    plt.close(fig_epsilon)"
   ]
  },
  {
   "cell_type": "markdown",
   "metadata": {},
   "source": [
    "## Influence of $\\gamma$ and r"
   ]
  },
  {
   "cell_type": "code",
   "execution_count": 15,
   "metadata": {},
   "outputs": [],
   "source": [
    "def test_gamma_r(R,S,T,P,theta,p,epsilon,nb_strategies_with,nb_strategies_without,beta,Z,gammas,rs):\n",
    "    # array for the results with the trust-strategies and without the trust-strategies\n",
    "    results_with_r = []\n",
    "    results_without_r = []\n",
    "    # go over every r in the rs\n",
    "    for r in rs:\n",
    "        # for the frequencies of strategies\n",
    "        results_with = np.zeros((nb_strategies_with,len(gammas)))\n",
    "        # for the frequency of cooperation\n",
    "        results_without = np.zeros((nb_strategies_without,len(gammas)))\n",
    "        # go over all the gammas\n",
    "        for pos in range(len(gammas)):\n",
    "            # get the gamma\n",
    "            gamma = gammas[pos]\n",
    "            # calculate the pay-offs\n",
    "            pay_off = calculate_pay_off(R,S,T,P,gamma,r,theta,p,epsilon)\n",
    "            # for all strategies\n",
    "            evolver = egt.analytical.StochDynamics(nb_strategies_with, pay_off, Z)\n",
    "            evolver.mu = 0\n",
    "            # calculate the stationary distribution\n",
    "            stationary_SML = evolver.calculate_stationary_distribution(beta)\n",
    "            # store the results\n",
    "            for strategy,v in zip(range(nb_strategies_with),stationary_SML):\n",
    "                results_with[strategy][pos] = v\n",
    "            # for all strategies except TUC and TUD\n",
    "            evolver = egt.analytical.StochDynamics(nb_strategies_without, pay_off, Z)\n",
    "            evolver.mu = 0\n",
    "            # calculate the stationary distribution\n",
    "            stationary_SML = evolver.calculate_stationary_distribution(beta)\n",
    "            # safe the result\n",
    "            for strategy,v in zip(range(nb_strategies_without),stationary_SML):\n",
    "                results_without[strategy][pos] = v\n",
    "        # append the results to the global result collection\n",
    "        results_with_r.append(results_with)\n",
    "        results_without_r.append(results_without)\n",
    "    return results_with_r,results_without_r\n",
    "\n",
    "def visualize_gamma_r(ax_strats,ax_coops,nb_strategies_with,strategies,colors_strat,nb_strategies_without,colors_trust,gammas,rs,results_with_r,results_without_r):\n",
    "    for r,ax_strat,ax_coop,results_with,results_without in zip(rs,ax_strats,ax_coops,results_with_r,results_without_r):\n",
    "        # for the frequencies of strategies\n",
    "        # Plot the line for each of the strategies\n",
    "        for pos,color_strat in zip(range(nb_strategies_with),colors_strat):\n",
    "            ax_strat.plot(gammas,results_with[pos],label = strategies[pos])\n",
    "        ax_strat.legend()\n",
    "        ax_strat.set_xlabel(\"importance of the game $\\gamma$\")\n",
    "        ax_strat.set_ylabel(\"Frequency of Strategy\")\n",
    "        ax_strat.set_xlim(0.1,1000)\n",
    "        ax_strat.set_xscale(\"symlog\")\n",
    "        ax_strat.set_ylim(0,1)\n",
    "        # for the frequency of cooperation\n",
    "        without_trust = np.array([results_without[0][pos] + results_without[2][pos] for pos in range(len(gammas))])\n",
    "        ax_coop.plot(gammas,without_trust,label = \"without TUC/TUD\",color = colors_trust[0])\n",
    "        with_trust = np.array([results_with[0][pos] + results_with[2][pos] + results_with[3][pos] for pos in range(len(gammas))])\n",
    "        ax_coop.plot(gammas,with_trust,label = \"with TUC/TUD\",color = colors_trust[1])\n",
    "        ax_coop.fill_between(gammas, with_trust, without_trust, where=(with_trust > without_trust), color='green', alpha=0.3)\n",
    "        ax_coop.fill_between(gammas, with_trust, without_trust, where=(with_trust < without_trust), color='red', alpha=0.3)\n",
    "        ax_coop.legend()\n",
    "        ax_coop.set_xscale(\"symlog\")\n",
    "        ax_coop.set_xlim(0.1,1000)\n",
    "        ax_coop.set_ylim(0,1)\n",
    "        ax_coop.set_xlabel(\"importance of the game $\\gamma$\")\n",
    "        ax_coop.set_ylabel(\"Frequency of Trust\")\n",
    "        # add titles\n",
    "        ax_strat.set_title(f\"r = {r}\",size = 15)"
   ]
  },
  {
   "cell_type": "code",
   "execution_count": 16,
   "metadata": {},
   "outputs": [],
   "source": [
    "if run_small:\n",
    "    gammas = np.geomspace(0.1,1000,100)\n",
    "    rs = np.array([20,50,100])\n",
    "    gammas_r_with,gammas_r_without = test_gamma_r(R_pd,S_pd,T_pd,P_pd,theta,p,epsilon,nb_strategies_with,nb_strategies_without,beta,Z,gammas,rs)\n",
    "    fig_gamma,(ax_strats_gamma,ax_coops_gamma) = plt.subplots(2,3,figsize=(18,10))\n",
    "    fig_gamma.suptitle(\"Influence of $\\gamma$ and r where \" + r\"$\\theta$ = \" + f\"{theta}\",size=20)\n",
    "    visualize_gamma_r(ax_strats_gamma,ax_coops_gamma,nb_strategies_with,strategies,colors_strat,nb_strategies_without,colors_trust,gammas,rs,gammas_r_with,gammas_r_without)\n",
    "    fig_gamma.savefig(f'figure/gamma_and_r_theta_{theta}.png')"
   ]
  },
  {
   "cell_type": "code",
   "execution_count": 17,
   "metadata": {},
   "outputs": [],
   "source": [
    "if run_small:\n",
    "    plt.close(fig_gamma)"
   ]
  },
  {
   "cell_type": "markdown",
   "metadata": {},
   "source": [
    "## Influence of p and $\\epsilon$"
   ]
  },
  {
   "cell_type": "code",
   "execution_count": 18,
   "metadata": {},
   "outputs": [],
   "source": [
    "def test_p_epsilon(R,S,T,P,gamma,r,theta,nb_strategies_with,strategies,nb_strategies_without,beta,Z,ps,epsilons):\n",
    "    results_with_epsilon = []\n",
    "    results_without_espilon = []\n",
    "    for epsilon in epsilons:\n",
    "        # for the frequencies of strategies\n",
    "        results_with = np.zeros((nb_strategies_with,len(ps)))\n",
    "        # for the frequency of cooperation\n",
    "        results_without = np.zeros((nb_strategies_without,len(ps)))\n",
    "        for pos in range(len(ps)):\n",
    "            # for all strategies\n",
    "            p = 1/ps[pos]\n",
    "            pay_off = calculate_pay_off(R,S,T,P,gamma,r,theta,p,epsilon)\n",
    "            evolver = egt.analytical.StochDynamics(nb_strategies_with, pay_off, Z)\n",
    "            evolver.mu = 0\n",
    "            stationary_SML = evolver.calculate_stationary_distribution(beta)\n",
    "            for strategy,v in zip(range(nb_strategies_with),stationary_SML):\n",
    "                results_with[strategy][pos] = v\n",
    "            # for all strategies except TUC and TUD\n",
    "            evolver = egt.analytical.StochDynamics(nb_strategies_without, pay_off, Z)\n",
    "            evolver.mu = 0\n",
    "            stationary_SML = evolver.calculate_stationary_distribution(beta)\n",
    "            for strategy,v in zip(range(nb_strategies_without),stationary_SML):\n",
    "                results_without[strategy][pos] = v\n",
    "        results_with_epsilon.append(results_with)\n",
    "        results_without_espilon.append(results_without)\n",
    "    return results_with_epsilon,results_without_espilon\n",
    "                \n",
    "def visualize_p_epsilon(ax_strats,ax_coops,nb_strategies_with,strategies,colors_strat,nb_strategies_without,colors_trust,ps,epsilons,results_with_epsilon,results_without_epsilon,title_on = False):\n",
    "    for epsilon,ax_strat,ax_coop,results_with,results_without in zip(epsilons,ax_strats,ax_coops,results_with_epsilon,results_without_epsilon):\n",
    "        # for the frequencies of strategies\n",
    "        for pos,color_strat in zip(range(nb_strategies_with),colors_strat):\n",
    "            ax_strat.plot(ps,results_with[pos],label = strategies[pos],color = color_strat)\n",
    "        ax_strat.legend()\n",
    "        ax_strat.set_xlabel(\"trustfulness $1/p$\")\n",
    "        ax_strat.set_ylabel(\"Frequency of Strategy\")\n",
    "        ax_strat.set_xlim(0,100)\n",
    "        ax_strat.set_ylim(0,1)\n",
    "        # for the frequency of cooperation\n",
    "        without_trust = np.array([results_without[0][pos] + results_without[2][pos] for pos in range(len(ps))])\n",
    "        with_trust = np.array([results_with[0][pos] + results_with[2][pos] + results_with[3][pos] for pos in range(len(ps))])\n",
    "        ax_coop.plot(ps,without_trust,label = \"without TUC/TUD\",color = colors_trust[0])\n",
    "        ax_coop.plot(ps,with_trust,label = \"with TUC/TUD\",color = colors_trust[1])\n",
    "        ax_coop.fill_between(ps, with_trust, without_trust, where=(with_trust > without_trust), color='green', alpha=0.3)\n",
    "        ax_coop.fill_between(ps, with_trust, without_trust, where=(with_trust < without_trust), color='red', alpha=0.3)\n",
    "        ax_coop.legend()\n",
    "        ax_coop.set_xlim(0,100)\n",
    "        ax_coop.set_ylim(0,1)\n",
    "        ax_coop.set_xlabel(\"trustfulness $1/p$\")\n",
    "        ax_coop.set_ylabel(\"Frequency of Trust\")\n",
    "        # add titles\n",
    "        ax_strat.set_title(f\"epsilon = {epsilon}\",size = 15)"
   ]
  },
  {
   "cell_type": "code",
   "execution_count": 19,
   "metadata": {},
   "outputs": [],
   "source": [
    "if run_small:\n",
    "    ps = np.arange(1,101,1)\n",
    "    epsilons = np.array([0,0.2,0.5])\n",
    "    ps_epsilon_with,ps_epsilon_without = test_p_epsilon(R_pd,S_pd,T_pd,P_pd,gamma,r,theta,nb_strategies_with,strategies,nb_strategies_without,beta,Z,ps,epsilons)\n",
    "    fig_p,(ax_strats_p,ax_coops_p) = plt.subplots(2,3,figsize=(18,10))\n",
    "    fig_p.suptitle(\"Influence of p and $\\epsilon$ where \" + r\"$\\theta$ = \" + f\"{theta}\",size=20)\n",
    "    visualize_p_epsilon(ax_strats_p,ax_coops_p,nb_strategies_with,strategies,colors_strat,nb_strategies_without,colors_trust,ps,epsilons,ps_epsilon_with,ps_epsilon_without)\n",
    "    fig_p.savefig(f'figure/p_and_epsilon_theta_{theta}.png')"
   ]
  },
  {
   "cell_type": "code",
   "execution_count": 20,
   "metadata": {},
   "outputs": [],
   "source": [
    "if run_small:\n",
    "    plt.close(fig_p)"
   ]
  },
  {
   "cell_type": "markdown",
   "metadata": {},
   "source": [
    "## Do the previous experiments for different $\\theta$"
   ]
  },
  {
   "cell_type": "code",
   "execution_count": 21,
   "metadata": {},
   "outputs": [],
   "source": [
    "def test_theta(R,S,T,P,gamma,r,p,epsilon,nb_strategies_with,strategies,colors_strat,nb_strategies_without,colors_trust,beta,Z,thetas,path):\n",
    "    for theta in thetas:\n",
    "        ### epsilons\n",
    "        epsilons = np.arange(0,1.1,0.1)\n",
    "        epsilons_with,epsilons_without = test_epsilons(R,S,T,P,gamma,r,theta,p,nb_strategies_with,strategies,nb_strategies_without,beta,Z,epsilons)\n",
    "        fig_epsilon,(ax_strat_epsilon,ax_coop_epsilon) = plt.subplots(1,2,figsize=(12,5))\n",
    "        fig_epsilon.suptitle(\"Influence of $\\epsilon$ where \" + r\"$\\theta$ = \" + f\"{theta}\",size = 20)\n",
    "        visualize_epsilons(ax_strat_epsilon,ax_coop_epsilon,nb_strategies_with,strategies,colors_strat,nb_strategies_without,colors_trust,epsilons,epsilons_with,epsilons_without)\n",
    "        fig_epsilon.savefig(f'{path}/epsilon_theta_{theta}.png')\n",
    "        plt.close(fig_epsilon)\n",
    "        ### gamma and r\n",
    "        gammas = np.geomspace(0.1,1000,100)\n",
    "        rs = np.array([20,50,100])\n",
    "        gammas_r_with,gammas_r_without = test_gamma_r(R,S,T,P,theta,p,epsilon,nb_strategies_with,nb_strategies_without,beta,Z,gammas,rs)\n",
    "        fig_gamma,(ax_strats_gamma,ax_coops_gamma) = plt.subplots(2,3,figsize=(18,10))\n",
    "        fig_gamma.suptitle(\"Influence of $\\gamma$ and r where \" + r\"$\\theta$ = \" + f\"{theta}\",size=20)\n",
    "        visualize_gamma_r(ax_strats_gamma,ax_coops_gamma,nb_strategies_with,strategies,colors_strat,nb_strategies_without,colors_trust,gammas,rs,gammas_r_with,gammas_r_without)\n",
    "        fig_gamma.savefig(f'{path}/gamma_theta_{theta}.png')\n",
    "        plt.close(fig_gamma)\n",
    "        ### p and epsilon\n",
    "        ps = np.arange(1,101,1)\n",
    "        epsilons = np.array([0,0.2,0.5])\n",
    "        ps_epsilon_with,ps_epsilon_without = test_p_epsilon(R,S,T,P,gamma,r,theta,nb_strategies_with,strategies,nb_strategies_without,beta,Z,ps,epsilons)\n",
    "        fig_p,(ax_strats_p,ax_coops_p) = plt.subplots(2,3,figsize=(18,10))\n",
    "        fig_p.suptitle(\"Influence of p and $\\epsilon$ where \" + r\"$\\theta$ = \" + f\"{theta}\",size=20)\n",
    "        visualize_p_epsilon(ax_strats_p,ax_coops_p,nb_strategies_with,strategies,colors_strat,nb_strategies_without,colors_trust,ps,epsilons,ps_epsilon_with,ps_epsilon_without)\n",
    "        fig_p.savefig(f'{path}/p_and_epsilon_theta_{theta}.png')\n",
    "        plt.close(fig_p)"
   ]
  },
  {
   "cell_type": "code",
   "execution_count": 22,
   "metadata": {},
   "outputs": [],
   "source": [
    "if run_big:\n",
    "    thetas = [3,5,10]\n",
    "    test_theta(R_pd,S_pd,T_pd,P_pd,gamma,r,p,epsilon,nb_strategies_with,strategies,colors_strat,nb_strategies_without,colors_trust,beta,Z,thetas,\"prisoner\")"
   ]
  },
  {
   "cell_type": "markdown",
   "metadata": {},
   "source": [
    "# snowdrift"
   ]
  },
  {
   "cell_type": "code",
   "execution_count": 23,
   "metadata": {},
   "outputs": [
    {
     "ename": "TypeError",
     "evalue": "test_theta() missing 2 required positional arguments: 'thetas' and 'path'",
     "output_type": "error",
     "traceback": [
      "\u001b[1;31m---------------------------------------------------------------------------\u001b[0m",
      "\u001b[1;31mTypeError\u001b[0m                                 Traceback (most recent call last)",
      "\u001b[1;32m~\\AppData\\Local\\Temp/ipykernel_10624/3359830824.py\u001b[0m in \u001b[0;36m<module>\u001b[1;34m\u001b[0m\n\u001b[0;32m      1\u001b[0m \u001b[1;32mif\u001b[0m \u001b[0mrun_big\u001b[0m\u001b[1;33m:\u001b[0m\u001b[1;33m\u001b[0m\u001b[1;33m\u001b[0m\u001b[0m\n\u001b[0;32m      2\u001b[0m     \u001b[0mthetas\u001b[0m \u001b[1;33m=\u001b[0m \u001b[1;33m[\u001b[0m\u001b[1;36m3\u001b[0m\u001b[1;33m,\u001b[0m\u001b[1;36m5\u001b[0m\u001b[1;33m,\u001b[0m\u001b[1;36m10\u001b[0m\u001b[1;33m]\u001b[0m\u001b[1;33m\u001b[0m\u001b[1;33m\u001b[0m\u001b[0m\n\u001b[1;32m----> 3\u001b[1;33m     \u001b[0mtest_theta\u001b[0m\u001b[1;33m(\u001b[0m\u001b[0mR_sd\u001b[0m\u001b[1;33m,\u001b[0m\u001b[0mS_sd\u001b[0m\u001b[1;33m,\u001b[0m\u001b[0mT_sd\u001b[0m\u001b[1;33m,\u001b[0m\u001b[0mP_sd\u001b[0m\u001b[1;33m,\u001b[0m\u001b[0mgamma\u001b[0m\u001b[1;33m,\u001b[0m\u001b[0mr\u001b[0m\u001b[1;33m,\u001b[0m\u001b[0mp\u001b[0m\u001b[1;33m,\u001b[0m\u001b[0mepsilon\u001b[0m\u001b[1;33m,\u001b[0m\u001b[0mnb_strategies_with\u001b[0m\u001b[1;33m,\u001b[0m\u001b[0mstrategies\u001b[0m\u001b[1;33m,\u001b[0m\u001b[0mnb_strategies_without\u001b[0m\u001b[1;33m,\u001b[0m\u001b[0mbeta\u001b[0m\u001b[1;33m,\u001b[0m\u001b[0mZ\u001b[0m\u001b[1;33m,\u001b[0m\u001b[0mthetas\u001b[0m\u001b[1;33m,\u001b[0m\u001b[1;34m\"snowdrift\"\u001b[0m\u001b[1;33m)\u001b[0m\u001b[1;33m\u001b[0m\u001b[1;33m\u001b[0m\u001b[0m\n\u001b[0m",
      "\u001b[1;31mTypeError\u001b[0m: test_theta() missing 2 required positional arguments: 'thetas' and 'path'"
     ]
    }
   ],
   "source": [
    "if run_big:\n",
    "    thetas = [3,5,10]\n",
    "    test_theta(R_sd,S_sd,T_sd,P_sd,gamma,r,p,epsilon,nb_strategies_with,strategies,colors_strat,nb_strategies_without,colors_trust,beta,Z,thetas,\"snowdrift\")"
   ]
  }
 ],
 "metadata": {
  "kernelspec": {
   "display_name": "Python 3 (ipykernel)",
   "language": "python",
   "name": "python3"
  },
  "language_info": {
   "codemirror_mode": {
    "name": "ipython",
    "version": 3
   },
   "file_extension": ".py",
   "mimetype": "text/x-python",
   "name": "python",
   "nbconvert_exporter": "python",
   "pygments_lexer": "ipython3",
   "version": "3.9.7"
  }
 },
 "nbformat": 4,
 "nbformat_minor": 2
}
